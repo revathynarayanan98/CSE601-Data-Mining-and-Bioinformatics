{
  "nbformat": 4,
  "nbformat_minor": 0,
  "metadata": {
    "colab": {
      "name": "hca.ipynb",
      "provenance": [],
      "collapsed_sections": []
    },
    "kernelspec": {
      "name": "python3",
      "display_name": "Python 3"
    }
  },
  "cells": [
    {
      "cell_type": "code",
      "metadata": {
        "id": "prqhSeAN-hXw",
        "outputId": "c4b01ae5-4db9-46cc-c743-34189bf7a0ba",
        "colab": {
          "base_uri": "https://localhost:8080/",
          "height": 524
        }
      },
      "source": [
        "import pandas as pd\n",
        "import numpy as np \n",
        "from scipy.spatial import distance_matrix\n",
        "from sklearn.decomposition import PCA\n",
        "import matplotlib.cm as matpltlb\n",
        "import matplotlib.pyplot as plot\n",
        "\n",
        "def getInitCluster(cluster_list, point) :\n",
        "    for index, cluster in enumerate(cluster_list) :\n",
        "        if point in cluster :\n",
        "            return index\n",
        "\n",
        "df = pd.read_csv('/content/iyer.txt', header = None, sep ='\\t') # Please change file name here\n",
        "count = 10  # Please change cluster count here\n",
        "groundTruth = df.iloc[:,1]\n",
        "data = df.drop(columns = [0,1])\n",
        "TP = FP = TN = FN = 0\n",
        "\n",
        "col = []\n",
        "for i in range(len(data.columns)) :\n",
        "  col.append(i)\n",
        "data.columns = col\n",
        "data = np.array(data)\n",
        "dataArr = np.matrix(data, dtype = float)\n",
        "cluster_limit = len(dataArr)-count\n",
        "eu_dist_matrix = distance_matrix(dataArr,dataArr)\n",
        "cluster_label = []\n",
        "for datapoint in range(len(dataArr)) :\n",
        "  arr = []\n",
        "  arr.append(datapoint)\n",
        "  cluster_label.append(arr)\n",
        "\n",
        "clusters_alloc = []\n",
        "for i in range(cluster_limit):\n",
        "    min_value = np.min(eu_dist_matrix[np.nonzero(eu_dist_matrix)])\n",
        "    index1 = np.where(eu_dist_matrix == min_value)[0][0]\n",
        "    index2 = np.where(eu_dist_matrix == min_value)[1][0]\n",
        "    x_cluster = getInitCluster(cluster_label, index1)\n",
        "    y_cluster = getInitCluster(cluster_label, index2)\n",
        "    cluster_label[x_cluster] = cluster_label[x_cluster] + cluster_label[y_cluster]\n",
        "    cluster_label.pop(y_cluster)\n",
        "    for j in range(len(dataArr)) :\n",
        "        eu_dist_matrix[index1][j] = min(eu_dist_matrix[index1][j], eu_dist_matrix[index2][j])\n",
        "        eu_dist_matrix[j][index1] = min(eu_dist_matrix[j][index1], eu_dist_matrix[j][index2])\n",
        "        eu_dist_matrix[index2][j] = 0\n",
        "        eu_dist_matrix[j][index2] = 0\n",
        "        eu_dist_matrix[j][j] = 0\n",
        "\n",
        "clusters_alloc = np.zeros(len(dataArr))\n",
        "cluster_name = 1;\n",
        "\n",
        "for cluster in cluster_label:\n",
        "    for c in cluster:\n",
        "        clusters_alloc[c] = cluster_name\n",
        "    cluster_name = cluster_name + 1\n",
        "\n",
        "pca_plot_matrix = PCA(n_components = 2).fit_transform(dataArr)\n",
        "labels = set(clusters_alloc)\n",
        "list_labels = list(labels)\n",
        "unique_naming_list_1 = []\n",
        "colours_unique_vector = matpltlb.Set1(np.linspace(0, 1, len(list_labels)))\n",
        "\n",
        "for i in range(len(list_labels)):\n",
        "    dis_rows_index = np.where(clusters_alloc == list_labels[i])\n",
        "    dis_rows = pca_plot_matrix[dis_rows_index]\n",
        "    x_plot = [dis_rows[:,0]]\n",
        "    y_plot = [dis_rows[:,1]]\n",
        "    unique_naming_list_1.append(plot.scatter(x_plot, y_plot, c = colours_unique_vector[i]))\n",
        "\n",
        "list_labels = [-1.0 if x == 0 else x for x in list_labels]\n",
        "list_labels = np.array(list_labels, dtype = int)\n",
        "plot.title(\"HCA\")\n",
        "plot.legend(unique_naming_list_1, list_labels, loc = \"best\", ncol = 1, markerfirst = True, shadow = True)\n",
        "plot.xlabel(\"PC 1\")\n",
        "plot.ylabel(\"PC 2\")\n",
        "plot.show()\n",
        "\n",
        "for i in range(len(data)) :\n",
        "    for j in range(len(data)) :\n",
        "        if groundTruth[i] != groundTruth[j] :\n",
        "            if clusters_alloc[i] == clusters_alloc[j] :\n",
        "                FP = FP + 1\n",
        "            else :\n",
        "                TN = TN + 1                \n",
        "        else :\n",
        "            if clusters_alloc[i] != clusters_alloc[j] :\n",
        "                FN = FN + 1\n",
        "            else :\n",
        "                TP = TP + 1\n",
        "\n",
        "RandIndex = (TP + TN)/ (TP + TN + FP + FN)\n",
        "JaccardCoeff = (TP)/ (TP + FP + FN)\n",
        "print(\"Jaccard Coefficient is \", JaccardCoeff)\n",
        "print(\"Rand Index is \", RandIndex)\n"
      ],
      "execution_count": 1,
      "outputs": [
        {
          "output_type": "stream",
          "text": [
            "*c* argument looks like a single numeric RGB or RGBA sequence, which should be avoided as value-mapping will have precedence in case its length matches with *x* & *y*.  Please use the *color* keyword-argument or provide a 2-D array with a single row if you intend to specify the same RGB or RGBA value for all points.\n",
            "*c* argument looks like a single numeric RGB or RGBA sequence, which should be avoided as value-mapping will have precedence in case its length matches with *x* & *y*.  Please use the *color* keyword-argument or provide a 2-D array with a single row if you intend to specify the same RGB or RGBA value for all points.\n",
            "*c* argument looks like a single numeric RGB or RGBA sequence, which should be avoided as value-mapping will have precedence in case its length matches with *x* & *y*.  Please use the *color* keyword-argument or provide a 2-D array with a single row if you intend to specify the same RGB or RGBA value for all points.\n",
            "*c* argument looks like a single numeric RGB or RGBA sequence, which should be avoided as value-mapping will have precedence in case its length matches with *x* & *y*.  Please use the *color* keyword-argument or provide a 2-D array with a single row if you intend to specify the same RGB or RGBA value for all points.\n",
            "*c* argument looks like a single numeric RGB or RGBA sequence, which should be avoided as value-mapping will have precedence in case its length matches with *x* & *y*.  Please use the *color* keyword-argument or provide a 2-D array with a single row if you intend to specify the same RGB or RGBA value for all points.\n",
            "*c* argument looks like a single numeric RGB or RGBA sequence, which should be avoided as value-mapping will have precedence in case its length matches with *x* & *y*.  Please use the *color* keyword-argument or provide a 2-D array with a single row if you intend to specify the same RGB or RGBA value for all points.\n",
            "*c* argument looks like a single numeric RGB or RGBA sequence, which should be avoided as value-mapping will have precedence in case its length matches with *x* & *y*.  Please use the *color* keyword-argument or provide a 2-D array with a single row if you intend to specify the same RGB or RGBA value for all points.\n",
            "*c* argument looks like a single numeric RGB or RGBA sequence, which should be avoided as value-mapping will have precedence in case its length matches with *x* & *y*.  Please use the *color* keyword-argument or provide a 2-D array with a single row if you intend to specify the same RGB or RGBA value for all points.\n",
            "*c* argument looks like a single numeric RGB or RGBA sequence, which should be avoided as value-mapping will have precedence in case its length matches with *x* & *y*.  Please use the *color* keyword-argument or provide a 2-D array with a single row if you intend to specify the same RGB or RGBA value for all points.\n",
            "*c* argument looks like a single numeric RGB or RGBA sequence, which should be avoided as value-mapping will have precedence in case its length matches with *x* & *y*.  Please use the *color* keyword-argument or provide a 2-D array with a single row if you intend to specify the same RGB or RGBA value for all points.\n"
          ],
          "name": "stderr"
        },
        {
          "output_type": "display_data",
          "data": {
            "image/png": "[encoded data removed]",
            "text/plain": [
              "<Figure size 432x288 with 1 Axes>"
            ]
          },
          "metadata": {
            "tags": [],
            "needs_background": "light"
          }
        },
        {
          "output_type": "stream",
          "text": [
            "Jaccard Coefficient is  0.15824309696642858\n",
            "Rand Index is  0.1882868355974245\n"
          ],
          "name": "stdout"
        }
      ]
    }
  ]
}